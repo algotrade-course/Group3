{
 "cells": [
  {
   "cell_type": "markdown",
   "id": "55b5e841",
   "metadata": {},
   "source": [
    "Before you turn this problem in, make sure everything runs as expected. First, **restart the kernel** (in the menubar, select Kernel $\\rightarrow$ Restart) and then **run all cells** (in the menubar, select Cell $\\rightarrow$ Run All).\n",
    "\n",
    "Make sure you fill in any place that says `YOUR CODE HERE` or \"YOUR ANSWER HERE\", as well as your name and collaborators below:"
   ]
  },
  {
   "cell_type": "code",
   "execution_count": null,
   "id": "6b5edcbb",
   "metadata": {},
   "outputs": [],
   "source": [
    "NAME = \"Ho Viet Bao Long\"\n",
    "COLLABORATORS = \"\""
   ]
  },
  {
   "cell_type": "markdown",
   "id": "103caebb",
   "metadata": {},
   "source": [
    "---"
   ]
  },
  {
   "cell_type": "markdown",
   "id": "37e5e6ac-d3aa-4b9d-9ab2-d97bca5e5d2a",
   "metadata": {},
   "source": [
    "# Assignment 6: Backtesting - SMA Strategy (30 pts)"
   ]
  },
  {
   "cell_type": "markdown",
   "id": "7c7017f8-7063-4164-9c1b-de2a7b5685e0",
   "metadata": {},
   "source": [
    "## 0 Introduction\n",
    "\n",
    "Backtesting is the crucial step in developing trading algorithms. In this assignment, we will use the SMA Strategy to practice the backtesting module. First, we prepare some of the required packages. If there are any missing packages, you can install them by typing in the code shell:\n",
    "```terminal\n",
    "!pip install <package_name>\n",
    "```\n"
   ]
  },
  {
   "cell_type": "code",
   "execution_count": null,
   "id": "317e15c8",
   "metadata": {
    "executionInfo": {
     "elapsed": 363,
     "status": "ok",
     "timestamp": 1709796646579,
     "user": {
      "displayName": "Xuân Ngọc Lê Vũ",
      "userId": "17595463002209508429"
     },
     "user_tz": -420
    },
    "id": "317e15c8"
   },
   "outputs": [],
   "source": [
    "import pandas as pd\n",
    "import yfinance as yf\n",
    "import numpy as np\n",
    "\n",
    "from typing import List\n",
    "from matplotlib import pyplot as plt\n",
    "from numpy.testing import assert_almost_equal, assert_equal"
   ]
  },
  {
   "cell_type": "markdown",
   "id": "a78fe2f8",
   "metadata": {
    "id": "a78fe2f8"
   },
   "source": [
    "## 1 Prepare the Data\n",
    "\n",
    "First, we load the data using `yfinance` package"
   ]
  },
  {
   "cell_type": "code",
   "execution_count": null,
   "id": "cad36337",
   "metadata": {
    "colab": {
     "base_uri": "https://localhost:8080/"
    },
    "executionInfo": {
     "elapsed": 374,
     "status": "ok",
     "timestamp": 1709796647311,
     "user": {
      "displayName": "Xuân Ngọc Lê Vũ",
      "userId": "17595463002209508429"
     },
     "user_tz": -420
    },
    "id": "cad36337",
    "outputId": "ae4fb622-77a4-432c-87ab-2ba8a716b0d3"
   },
   "outputs": [],
   "source": [
    "# Load data\n",
    "# The data is divided into two sections, in-sample data and out-sample data\n",
    "TICKER_SYMBOL = 'WTM'\n",
    "\n",
    "in_sample_data = yf.download(TICKER_SYMBOL, start=\"2021-01-01\", end=\"2023-01-01\")\n",
    "out_sample_data = yf.download(TICKER_SYMBOL, start=\"2023-01-02\", end=\"2024-01-01\")\n",
    "# NOTE: in-sample data & out-sample data should have no overlap"
   ]
  },
  {
   "cell_type": "markdown",
   "id": "725c87cd-9e6b-45eb-aebc-c143fb1bbef7",
   "metadata": {},
   "source": [
    "We plot the data to view"
   ]
  },
  {
   "cell_type": "code",
   "execution_count": null,
   "id": "CdSSdf4A6kzT",
   "metadata": {
    "colab": {
     "base_uri": "https://localhost:8080/",
     "height": 401
    },
    "executionInfo": {
     "elapsed": 555,
     "status": "ok",
     "timestamp": 1709796647865,
     "user": {
      "displayName": "Xuân Ngọc Lê Vũ",
      "userId": "17595463002209508429"
     },
     "user_tz": -420
    },
    "id": "CdSSdf4A6kzT",
    "outputId": "58c9f3c3-7b9d-4236-ebdc-cec19709c764"
   },
   "outputs": [],
   "source": [
    "# plot in-sample data and out-sample data\n",
    "in_sample_data['Close'].plot(kind='line', figsize=(8, 4), title='In-sample data')\n",
    "out_sample_data['Close'].plot(kind='line', figsize=(8, 4), title='Out-sample data')\n",
    "plt.gca().spines[['top', 'right']].set_visible(False)"
   ]
  },
  {
   "cell_type": "markdown",
   "id": "5adb2432-db12-4c00-b7f4-60f27e388706",
   "metadata": {},
   "source": [
    "We will use the `Close` price to run the `SMA Algorithm` later on"
   ]
  },
  {
   "cell_type": "code",
   "execution_count": null,
   "id": "83cbf280",
   "metadata": {
    "colab": {
     "base_uri": "https://localhost:8080/"
    },
    "executionInfo": {
     "elapsed": 26,
     "status": "ok",
     "timestamp": 1709796648846,
     "user": {
      "displayName": "Xuân Ngọc Lê Vũ",
      "userId": "17595463002209508429"
     },
     "user_tz": -420
    },
    "id": "83cbf280",
    "outputId": "4b82f76c-c125-4d1a-aa62-bff3fd29e9d9"
   },
   "outputs": [],
   "source": [
    "# Copy the in-sample data to another data\n",
    "data = in_sample_data.copy()\n",
    "data['Close']"
   ]
  },
  {
   "cell_type": "markdown",
   "id": "8710e77d",
   "metadata": {
    "id": "8710e77d"
   },
   "source": [
    "## 2 The SMA (Simple Moving Average) Algorithm\n",
    "\n",
    "### 2.1 Visualize\n",
    "We set the `SMA_WINDOW_LENGTH` to be 13 for now, but we can change it later for optimization purposes (more on this later). Let's run the code below to calculate and visualize the `SMA` on top of the `Close` price."
   ]
  },
  {
   "cell_type": "code",
   "execution_count": null,
   "id": "286ecd8a",
   "metadata": {
    "executionInfo": {
     "elapsed": 17,
     "status": "ok",
     "timestamp": 1709796648846,
     "user": {
      "displayName": "Xuân Ngọc Lê Vũ",
      "userId": "17595463002209508429"
     },
     "user_tz": -420
    },
    "id": "286ecd8a"
   },
   "outputs": [],
   "source": [
    "# TODO: adjust SMA_WINDOW_LENGTH to optimize algorithm (in in-sample data set only)\n",
    "SMA_WINDOW_LENGTH = 13\n",
    "SMA_SYMBOL = f'SMA{SMA_WINDOW_LENGTH}'\n",
    "\n",
    "data[SMA_SYMBOL] = data['Close'].rolling(SMA_WINDOW_LENGTH).mean()"
   ]
  },
  {
   "cell_type": "code",
   "execution_count": null,
   "id": "546adf41",
   "metadata": {
    "colab": {
     "base_uri": "https://localhost:8080/",
     "height": 401
    },
    "executionInfo": {
     "elapsed": 16,
     "status": "ok",
     "timestamp": 1709796648846,
     "user": {
      "displayName": "Xuân Ngọc Lê Vũ",
      "userId": "17595463002209508429"
     },
     "user_tz": -420
    },
    "id": "546adf41",
    "outputId": "63fd2860-b281-4feb-976b-17a969085aff"
   },
   "outputs": [],
   "source": [
    "# Plot SMA on top of the Close price\n",
    "fig = plt.figure()\n",
    "ax = fig.add_subplot(111)\n",
    "data['Close'].plot(kind='line', figsize=(8, 4), title=f'SMA-{SMA_WINDOW_LENGTH} of {TICKER_SYMBOL}', ax=ax)\n",
    "data[SMA_SYMBOL].plot(kind='line', figsize=(8, 4), ax=ax, legend=True)\n",
    "plt.gca().spines[['top', 'right']].set_visible(False)"
   ]
  },
  {
   "cell_type": "markdown",
   "id": "ed4941e6-6dc0-4933-a2a7-deb31cf4b595",
   "metadata": {},
   "source": [
    "### 2.2 Data Preprocessing\n",
    "\n",
    "Before performing any step, the data needs to be processed."
   ]
  },
  {
   "cell_type": "code",
   "execution_count": null,
   "id": "6369b549",
   "metadata": {
    "executionInfo": {
     "elapsed": 15,
     "status": "ok",
     "timestamp": 1709796648846,
     "user": {
      "displayName": "Xuân Ngọc Lê Vũ",
      "userId": "17595463002209508429"
     },
     "user_tz": -420
    },
    "id": "6369b549"
   },
   "outputs": [],
   "source": [
    "# Data cleansing, removing invalid data values.\n",
    "data = data.dropna()"
   ]
  },
  {
   "cell_type": "markdown",
   "id": "98271a8e",
   "metadata": {
    "id": "98271a8e"
   },
   "source": [
    "### 2.3 Algorithm Configuration\n",
    "\n",
    "Any trading algorithm must also specify the `TAKE_PROFIT_THRES` or `CUT_LOSS_THRES` before performing `Backtesting` or subsequent steps. It can later be optimized in `Optimization` step."
   ]
  },
  {
   "cell_type": "code",
   "execution_count": null,
   "id": "d11bd37f",
   "metadata": {
    "executionInfo": {
     "elapsed": 14,
     "status": "ok",
     "timestamp": 1709796648846,
     "user": {
      "displayName": "Xuân Ngọc Lê Vũ",
      "userId": "17595463002209508429"
     },
     "user_tz": -420
    },
    "id": "d11bd37f"
   },
   "outputs": [],
   "source": [
    "# TODO: adjust take-profit-threshold & cut-loss-threshold to optimize algorithm (in in-sample data set only)\n",
    "TAKE_PROFIT_THRES = 10  # profit threshold is 10 point\n",
    "CUT_LOSS_THRES = 5 # cut-loss threshold is 5 point"
   ]
  },
  {
   "cell_type": "markdown",
   "id": "78db4029-e509-40fb-a759-652a935a6d62",
   "metadata": {},
   "source": [
    "We also need to setup the initial cash value to run the algorithm"
   ]
  },
  {
   "cell_type": "code",
   "execution_count": null,
   "id": "f0a39fff",
   "metadata": {
    "executionInfo": {
     "elapsed": 15,
     "status": "ok",
     "timestamp": 1709796648847,
     "user": {
      "displayName": "Xuân Ngọc Lê Vũ",
      "userId": "17595463002209508429"
     },
     "user_tz": -420
    },
    "id": "f0a39fff"
   },
   "outputs": [],
   "source": [
    "# Initial asset value in cash\n",
    "asset_value = 1000"
   ]
  },
  {
   "cell_type": "markdown",
   "id": "97ac130f",
   "metadata": {
    "id": "97ac130f"
   },
   "source": [
    "### 2.4 Helper Functions\n",
    "\n",
    "Helper functions are needed to help execute the `SMA Algorithm`. Often, the helper functions usually deal with managing orders and holdings. Holdings are frequently referred to as the storage of opened positions. The opened positions need to be tracked to close correctly when there are signals. Below are the two most common helper functions, `open_positions` and `close_positions`.\n",
    "\n",
    "You must complete the two functions for the `SMA Algorithm` to work.\n",
    "\n",
    "First, we need to specify the details of the `open_position` method:"
   ]
  },
  {
   "cell_type": "code",
   "execution_count": null,
   "id": "45c10185",
   "metadata": {
    "deletable": false,
    "executionInfo": {
     "elapsed": 14,
     "status": "ok",
     "timestamp": 1709796648847,
     "user": {
      "displayName": "Xuân Ngọc Lê Vũ",
      "userId": "17595463002209508429"
     },
     "user_tz": -420
    },
    "id": "45c10185",
    "nbgrader": {
     "cell_type": "code",
     "checksum": "fb09ec866f0c5e13136eef46ef913b9b",
     "grade": false,
     "grade_id": "cell-4ab013ed59598252",
     "locked": false,
     "schema_version": 3,
     "solution": true,
     "task": false
    }
   },
   "outputs": [],
   "source": [
    "# Open position when there is a trading signal, and add position to holdings.\n",
    "# Entry point is the price point at which a position is open.\n",
    "def open_position(\n",
    "    position_type: str,\n",
    "    entry_point: float,\n",
    "    holdings: List[[str, float]]\n",
    "):\n",
    "    \"\"\"Opens position and add to the holding.\n",
    "\n",
    "    Args:\n",
    "        position_type (str): The position type. The algorithm has only two positions: `LONG` or `SHORT`.\n",
    "        entry_point (float): The entry point of the position. The entry point is the price point at which the position is opened.\n",
    "        holdings (List[[str, float]]): The holdings that contain the positions (represented by position type and entry point).\n",
    "\n",
    "    Returns:\n",
    "        The holdings contain positions of the algorithm.\n",
    "    \"\"\"\n",
    "    # YOUR CODE HERE\n",
    "    raise NotImplementedError()\n",
    "    \n",
    "    return holdings"
   ]
  },
  {
   "cell_type": "markdown",
   "id": "3f947a87-4e96-4e69-9a26-c96a6279b8aa",
   "metadata": {},
   "source": [
    "Second, we need to specify the details of the `close_positions` method:"
   ]
  },
  {
   "cell_type": "code",
   "execution_count": null,
   "id": "8a71d893",
   "metadata": {
    "deletable": false,
    "executionInfo": {
     "elapsed": 14,
     "status": "ok",
     "timestamp": 1709796648847,
     "user": {
      "displayName": "Xuân Ngọc Lê Vũ",
      "userId": "17595463002209508429"
     },
     "user_tz": -420
    },
    "id": "8a71d893",
    "nbgrader": {
     "cell_type": "code",
     "checksum": "9c4977ef09ba6ddd11228646083138d6",
     "grade": false,
     "grade_id": "cell-8a37f4903949bbed",
     "locked": false,
     "schema_version": 3,
     "solution": true,
     "task": false
    }
   },
   "outputs": [],
   "source": [
    "# close position when there is trading signal. Remove the position from holdings.\n",
    "def close_positions(\n",
    "    cur_price: float,\n",
    "    holdings: List[[str, float]]\n",
    "):\n",
    "    \"\"\"Closes the position and remove from the holding. Also, performs some accounting tasks such as calculating realized and unrealized profit and loss (PnL).\n",
    "    \n",
    "    Args:\n",
    "        cur_price (float): Current price point.\n",
    "        holdings (List[[str, float]]): The holdings that contain the positions (represented by position type and entry point).\n",
    "\n",
    "    Returns:\n",
    "        The holdings contain the algorithm's positions and the total realized and unrealized profit and loss.\n",
    "    \"\"\"\n",
    "\n",
    "    total_realized_pnl = 0\n",
    "    total_unrealized_pnl = 0\n",
    "\n",
    "    for position_type, entry_point in holdings[:]:\n",
    "    # Loop through the opened position and check if the position has reached the TAKE_PROFIT_THRES or CUT_LOSS_THRES\n",
    "    # then close (remove) the position from the holdings.\n",
    "    # Remember to update the total_realized_pnl and total_unrealized_pnl accordingly\n",
    "        # YOUR CODE HERE\n",
    "        raise NotImplementedError()\n",
    "    \n",
    "    return holdings, total_realized_pnl, total_unrealized_pnl"
   ]
  },
  {
   "cell_type": "markdown",
   "id": "49811945",
   "metadata": {
    "id": "49811945"
   },
   "source": [
    "## 3 Backtest the SMA Trading Algorithm\n",
    "After defining the helper functions, we can begin to backtest the algorithm.\n",
    "\n",
    "First, the `holdings` is initialized:"
   ]
  },
  {
   "cell_type": "code",
   "execution_count": null,
   "id": "UToc60lO45eq",
   "metadata": {
    "executionInfo": {
     "elapsed": 14,
     "status": "ok",
     "timestamp": 1709796648847,
     "user": {
      "displayName": "Xuân Ngọc Lê Vũ",
      "userId": "17595463002209508429"
     },
     "user_tz": -420
    },
    "id": "UToc60lO45eq"
   },
   "outputs": [],
   "source": [
    "# holdings is a list of opened positions\n",
    "# holdings = [[position_type, price_point], ...]\n",
    "# e.g. holdings = [['SHORT', 492.0], ['LONG', 312.0]]\n",
    "holdings = []"
   ]
  },
  {
   "cell_type": "markdown",
   "id": "93579059-6373-4ef7-a72c-3557f92c8978",
   "metadata": {},
   "source": [
    "Then we can backtest the SMA Trading Algorithm"
   ]
  },
  {
   "cell_type": "code",
   "execution_count": null,
   "id": "029dd173",
   "metadata": {
    "deletable": false,
    "executionInfo": {
     "elapsed": 13,
     "status": "ok",
     "timestamp": 1709796648847,
     "user": {
      "displayName": "Xuân Ngọc Lê Vũ",
      "userId": "17595463002209508429"
     },
     "user_tz": -420
    },
    "id": "029dd173",
    "nbgrader": {
     "cell_type": "code",
     "checksum": "3099d13c0edfbeebf3f6a0cfe4cfe8b4",
     "grade": false,
     "grade_id": "cell-24d5d9e401054608",
     "locked": false,
     "schema_version": 3,
     "solution": true,
     "task": false
    }
   },
   "outputs": [],
   "source": [
    "# Backtest the SMA Trading Algorithm\n",
    "prev_date = None\n",
    "trading_data = data.copy()\n",
    "\n",
    "# loop through data history\n",
    "for date in data.index:\n",
    "\n",
    "    # Skip the first date\n",
    "    if prev_date is None:\n",
    "        prev_date = date\n",
    "        continue\n",
    "\n",
    "    cur_price = data['Close']['WTM'][date]\n",
    "\n",
    "    # Determine if any positions need to be closed\n",
    "    # If some cases in the trading algorithm, we need to make sure to close the positions first when we get a new price point\n",
    "    # You need to specify the correct code to close the position here. One line is sufficient.\n",
    "    # YOUR CODE HERE\n",
    "    raise NotImplementedError()\n",
    "    \n",
    "    # Update asset value when position is realized\n",
    "    asset_value = asset_value + total_realized_pnf\n",
    "\n",
    "    # Update asset history in both cases\n",
    "    if total_realized_pnf == 0:\n",
    "        trading_data.loc[date, 'Asset'] = asset_value + total_unrealized_pnf\n",
    "    else:\n",
    "        trading_data.loc[date, 'Asset'] = asset_value\n",
    "\n",
    "    # Make sure to open one contract only\n",
    "    if holdings:\n",
    "      continue\n",
    "\n",
    "    # Calculating new signal\n",
    "    prev_price = data['Close']['WTM'][prev_date]\n",
    "    prev_sma = data[SMA_SYMBOL][prev_date]\n",
    "    cur_sma = data[SMA_SYMBOL][date]\n",
    "    \n",
    "    # Open a LONG position when there are signals and add to the holdings\n",
    "    # You need to specify the code to open a LONG position here. Refer to the SMA Algorithm in the lecture if needed.\n",
    "    # YOUR CODE HERE\n",
    "    raise NotImplementedError()\n",
    "\n",
    "    # Open a SHORT position when there are signals and add to the holdings\n",
    "    # You need to specify the code to open a SHORT position here. Refer to the SMA Algorithm in the lecture if needed.\n",
    "    # YOUR CODE HERE\n",
    "    raise NotImplementedError()\n",
    "    \n",
    "    # Prepare for the next iteration\n",
    "    prev_date = date\n",
    "\n",
    "trading_data = trading_data.dropna()\n",
    "data = trading_data.copy()"
   ]
  },
  {
   "cell_type": "markdown",
   "id": "2c3f6b34-ff01-4861-8fd0-c7f646bb05dd",
   "metadata": {},
   "source": [
    "We can print the evolution of the `Asset`"
   ]
  },
  {
   "cell_type": "code",
   "execution_count": null,
   "id": "uPkl8S2NExp6",
   "metadata": {
    "colab": {
     "base_uri": "https://localhost:8080/"
    },
    "executionInfo": {
     "elapsed": 13,
     "status": "ok",
     "timestamp": 1709796648847,
     "user": {
      "displayName": "Xuân Ngọc Lê Vũ",
      "userId": "17595463002209508429"
     },
     "user_tz": -420
    },
    "id": "uPkl8S2NExp6",
    "outputId": "948178fc-dfc9-4cf7-afde-6b9775712d62"
   },
   "outputs": [],
   "source": [
    "trading_data['Asset']"
   ]
  },
  {
   "cell_type": "markdown",
   "id": "3858ada5",
   "metadata": {
    "id": "3858ada5"
   },
   "source": [
    "# 4 Evaluation\n",
    "\n",
    "Evaluation is a crucial step in developing the trading algorithm. They show if the algorithm is working or not. Here, we'd like to present several evaluation criteria commonly used to assess the trading algorithm."
   ]
  },
  {
   "cell_type": "markdown",
   "id": "It-v3RnuhKiG",
   "metadata": {
    "id": "It-v3RnuhKiG"
   },
   "source": [
    "### 4.1 Asset Over Time\n",
    "Asset over time is a simple and intuitive way to show if the algorithm works. If your asset increased, you're doing something right and vice versa. Just simply record the asset through the period of trading, here is the period of backtesting and plot it."
   ]
  },
  {
   "cell_type": "code",
   "execution_count": null,
   "id": "qByfvVKehU2U",
   "metadata": {
    "colab": {
     "base_uri": "https://localhost:8080/",
     "height": 401
    },
    "executionInfo": {
     "elapsed": 812,
     "status": "ok",
     "timestamp": 1709796649653,
     "user": {
      "displayName": "Xuân Ngọc Lê Vũ",
      "userId": "17595463002209508429"
     },
     "user_tz": -420
    },
    "id": "qByfvVKehU2U",
    "outputId": "16023d31-e3c6-4791-c335-9b53f303962d"
   },
   "outputs": [],
   "source": [
    "# Plot asset value over time\n",
    "data['Asset'].plot(kind='line', figsize=(8, 4), title='Asset Over Time')\n",
    "plt.gca().spines[['top', 'right']].set_visible(False)"
   ]
  },
  {
   "cell_type": "markdown",
   "id": "6c37bd0c",
   "metadata": {
    "id": "6c37bd0c"
   },
   "source": [
    "### 4.2 Holding Period Return\n",
    "\n",
    "We can also calculate the rate of return during the considered period"
   ]
  },
  {
   "cell_type": "code",
   "execution_count": null,
   "id": "49cc6f12",
   "metadata": {
    "executionInfo": {
     "elapsed": 14,
     "status": "ok",
     "timestamp": 1709796649653,
     "user": {
      "displayName": "Xuân Ngọc Lê Vũ",
      "userId": "17595463002209508429"
     },
     "user_tz": -420
    },
    "id": "49cc6f12"
   },
   "outputs": [],
   "source": [
    "cur_asset_value = data['Asset'].iloc[-1]\n",
    "init_asset_value = data['Asset'].iloc[0]\n",
    "\n",
    "# Percentage of return\n",
    "accum_return_rate = (cur_asset_value / init_asset_value - 1) * 100"
   ]
  },
  {
   "cell_type": "code",
   "execution_count": null,
   "id": "ZF_GlzQDFEKy",
   "metadata": {
    "colab": {
     "base_uri": "https://localhost:8080/"
    },
    "executionInfo": {
     "elapsed": 13,
     "status": "ok",
     "timestamp": 1709796649653,
     "user": {
      "displayName": "Xuân Ngọc Lê Vũ",
      "userId": "17595463002209508429"
     },
     "user_tz": -420
    },
    "id": "ZF_GlzQDFEKy",
    "outputId": "a819adb0-d03b-4470-a930-260bb6964e8b"
   },
   "outputs": [],
   "source": [
    "# Show the return of the period\n",
    "print(accum_return_rate)"
   ]
  },
  {
   "cell_type": "code",
   "execution_count": null,
   "id": "d806ed8f-6eb4-4ac9-ace5-0d5168fd7f48",
   "metadata": {
    "deletable": false,
    "editable": false,
    "nbgrader": {
     "cell_type": "code",
     "checksum": "c3e08a181a701332c8c34fde278421b4",
     "grade": true,
     "grade_id": "cell-9ff2d8d33b26d48b",
     "locked": true,
     "points": 10,
     "schema_version": 3,
     "solution": false,
     "task": false
    }
   },
   "outputs": [],
   "source": []
  },
  {
   "cell_type": "markdown",
   "id": "818617ed",
   "metadata": {
    "id": "818617ed"
   },
   "source": [
    "### 4.3 Maximum Drawdown (MDD)\n",
    "\n",
    "Maximum Drawdown (MDD) is also a great tool for assessing the maximum theoretical risk. We can calculate the MDD below."
   ]
  },
  {
   "cell_type": "code",
   "execution_count": null,
   "id": "6ed7a40a",
   "metadata": {
    "executionInfo": {
     "elapsed": 11,
     "status": "ok",
     "timestamp": 1709796649654,
     "user": {
      "displayName": "Xuân Ngọc Lê Vũ",
      "userId": "17595463002209508429"
     },
     "user_tz": -420
    },
    "id": "6ed7a40a"
   },
   "outputs": [],
   "source": [
    "# For each day, calculate the peak of asset value since inception\n",
    "data['peak'] = data.apply(lambda row: data.loc[:row.name, 'Asset'].max(), axis=1)\n",
    "\n",
    "# For each day, calculate asset drawdown\n",
    "data['drawdown'] = data['Asset']/data['peak'] - 1\n",
    "\n",
    "# max drawdown is the most negative value\n",
    "mdd = data['drawdown'].min() * 100"
   ]
  },
  {
   "cell_type": "code",
   "execution_count": null,
   "id": "9d5f434c",
   "metadata": {
    "colab": {
     "base_uri": "https://localhost:8080/"
    },
    "executionInfo": {
     "elapsed": 11,
     "status": "ok",
     "timestamp": 1709796649654,
     "user": {
      "displayName": "Xuân Ngọc Lê Vũ",
      "userId": "17595463002209508429"
     },
     "user_tz": -420
    },
    "id": "9d5f434c",
    "outputId": "f51c8151-fcde-4176-faab-656ea3a06037"
   },
   "outputs": [],
   "source": [
    "# Show the MDD\n",
    "print(mdd)"
   ]
  },
  {
   "cell_type": "code",
   "execution_count": null,
   "id": "830b105d-2df0-4e8b-9a47-5a8e09b35632",
   "metadata": {
    "deletable": false,
    "editable": false,
    "nbgrader": {
     "cell_type": "code",
     "checksum": "77c5e9a70ab98c5006303a15a37ad873",
     "grade": true,
     "grade_id": "cell-671ff9f86dc995ad",
     "locked": true,
     "points": 10,
     "schema_version": 3,
     "solution": false,
     "task": false
    }
   },
   "outputs": [],
   "source": []
  },
  {
   "cell_type": "markdown",
   "id": "aqjppdp7osWi",
   "metadata": {
    "id": "aqjppdp7osWi"
   },
   "source": [
    "### 4.4 Sharpe ratio\n",
    "\n",
    "In the lecture, we have shown that the `Sharpe Ratio` is also a great tool to evaluate the compromising between reward and risk. We show the `Sharpe Ratio` of the SMA Trading algorithm in this section.\n",
    "\n",
    "First we need to calculate the daily return"
   ]
  },
  {
   "cell_type": "code",
   "execution_count": null,
   "id": "8hb2qAUJoxAd",
   "metadata": {
    "colab": {
     "base_uri": "https://localhost:8080/",
     "height": 452
    },
    "executionInfo": {
     "elapsed": 8,
     "status": "ok",
     "timestamp": 1709796649654,
     "user": {
      "displayName": "Xuân Ngọc Lê Vũ",
      "userId": "17595463002209508429"
     },
     "user_tz": -420
    },
    "id": "8hb2qAUJoxAd",
    "outputId": "671bf40f-420a-4117-c935-0a3ff45fc51b"
   },
   "outputs": [],
   "source": [
    "# Compute the\n",
    "daily_return = data['Asset'][1:].to_numpy() / data['Asset'][:-1].to_numpy() - 1\n",
    "\n",
    "# plot daily return\n",
    "x = list(range(len(daily_return)))\n",
    "plt.plot(x, daily_return)\n",
    "plt.title(label=\"Daily Return\")\n",
    "plt.show()"
   ]
  },
  {
   "cell_type": "markdown",
   "id": "cfc71e51-429b-4343-9e42-9f0df6ebdfcd",
   "metadata": {},
   "source": [
    "The daily return can be used to calculate the `Sharpe Ratio`. Since `Sharpe Ratio` is often used in the context of annual return, we need to annualize the `Sharpe Ratio` calculate through the daily return data."
   ]
  },
  {
   "cell_type": "code",
   "execution_count": null,
   "id": "3AKiVLe2f5_L",
   "metadata": {
    "executionInfo": {
     "elapsed": 8,
     "status": "ok",
     "timestamp": 1709796649654,
     "user": {
      "displayName": "Xuân Ngọc Lê Vũ",
      "userId": "17595463002209508429"
     },
     "user_tz": -420
    },
    "id": "3AKiVLe2f5_L"
   },
   "outputs": [],
   "source": [
    "# Calculate the Sharpe Ratio by daily return with annualization\n",
    "trading_days_per_year = 252\n",
    "risk_free_rate = 0.03 # e.g. government bonds interest is 3% per year\n",
    "\n",
    "# annual standard deviation\n",
    "annual_std = np.sqrt(252) * np.std(daily_return)\n",
    "\n",
    "# annual return\n",
    "annual_return = 252 * np.mean(daily_return) - risk_free_rate\n",
    "\n",
    "# annualized Sharpe ratio\n",
    "sharpe = annual_return / annual_std"
   ]
  },
  {
   "cell_type": "code",
   "execution_count": null,
   "id": "BuXleXZaFM20",
   "metadata": {
    "colab": {
     "base_uri": "https://localhost:8080/"
    },
    "executionInfo": {
     "elapsed": 8,
     "status": "ok",
     "timestamp": 1709796649654,
     "user": {
      "displayName": "Xuân Ngọc Lê Vũ",
      "userId": "17595463002209508429"
     },
     "user_tz": -420
    },
    "id": "BuXleXZaFM20",
    "outputId": "84bc9ba0-84cf-40d8-c432-bba464fe6a53"
   },
   "outputs": [],
   "source": [
    "# Show the Sharpe Ration)\n",
    "print(sharpe)"
   ]
  },
  {
   "cell_type": "code",
   "execution_count": null,
   "id": "6d36cb06-920d-45ee-94b0-503153630b0f",
   "metadata": {
    "deletable": false,
    "editable": false,
    "nbgrader": {
     "cell_type": "code",
     "checksum": "d6cdeab6ac5e6c980698fd86184000c2",
     "grade": true,
     "grade_id": "cell-9261b2241f189114",
     "locked": true,
     "points": 10,
     "schema_version": 3,
     "solution": false,
     "task": false
    }
   },
   "outputs": [],
   "source": []
  },
  {
   "cell_type": "markdown",
   "id": "98fafcc7-b13f-4422-8932-ae22a50178ac",
   "metadata": {},
   "source": [
    "Finally, we can show the information of SMA Trading Algorithm below"
   ]
  },
  {
   "cell_type": "code",
   "execution_count": null,
   "id": "_f5vrEap48VU",
   "metadata": {
    "colab": {
     "base_uri": "https://localhost:8080/"
    },
    "executionInfo": {
     "elapsed": 5,
     "status": "ok",
     "timestamp": 1709796649654,
     "user": {
      "displayName": "Xuân Ngọc Lê Vũ",
      "userId": "17595463002209508429"
     },
     "user_tz": -420
    },
    "id": "_f5vrEap48VU",
    "outputId": "9d416f8c-3107-451b-a03f-d98f41529a10"
   },
   "outputs": [],
   "source": [
    "print(\n",
    "f\"\"\"\n",
    "SMA window length: {SMA_WINDOW_LENGTH}, \n",
    "Take Profit threshold: {TAKE_PROFIT_THRES}, \n",
    "Cut Lost threshold: {CUT_LOSS_THRES},\n",
    "Accumulate Rate: {accum_return_rate},\n",
    "MDD: {mdd},\n",
    "Sharpe Ratio: {sharpe}\n",
    "\"\"\"\n",
    ")"
   ]
  }
 ],
 "metadata": {
  "colab": {
   "provenance": []
  },
  "kernelspec": {
   "display_name": "Python 3 (ipykernel)",
   "language": "python",
   "name": "python3"
  },
  "language_info": {
   "codemirror_mode": {
    "name": "ipython",
    "version": 3
   },
   "file_extension": ".py",
   "mimetype": "text/x-python",
   "name": "python",
   "nbconvert_exporter": "python",
   "pygments_lexer": "ipython3",
   "version": "3.12.6"
  }
 },
 "nbformat": 4,
 "nbformat_minor": 5
}
